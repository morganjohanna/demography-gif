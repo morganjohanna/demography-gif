{
 "cells": [
  {
   "attachments": {},
   "cell_type": "markdown",
   "id": "bd8c2669",
   "metadata": {},
   "source": [
    "# Import and Cleaning"
   ]
  },
  {
   "cell_type": "code",
   "execution_count": null,
   "id": "a9c90ba4",
   "metadata": {
    "scrolled": false
   },
   "outputs": [],
   "source": [
    "import pandas as pd\n",
    "import matplotlib.pyplot as plt\n",
    "import seaborn as sns\n",
    "import imageio\n",
    "\n",
    "life = pd.read_excel(\"./data/gapminder_lifeexpectancy.xlsx\", index_col=0)\n",
    "fert = pd.read_csv(\"./data/gapminder_total_fertility.csv\", index_col=0)\n",
    "pop = pd.read_excel(\"./data/gapminder_population.xlsx\", index_col=0)\n",
    "cont = pd.read_csv(\"./data/continents.csv\", index_col=0, sep = \";\")"
   ]
  },
  {
   "cell_type": "code",
   "execution_count": null,
   "id": "f129ca82",
   "metadata": {},
   "outputs": [],
   "source": [
    "#clean and tidy fertility\n",
    "fert.columns = fert.columns.astype(int)\n",
    "fert.index.name = \"country\"\n",
    "fert = fert.reset_index()\n",
    "fert = fert.melt(id_vars = \"country\", var_name = \"year\", value_name = \"Fertility Rate\")\n",
    "\n",
    "#clean and tidy life expectancy\n",
    "life.index.name = \"country\"\n",
    "life = life.reset_index()\n",
    "life = life.melt(id_vars = \"country\", var_name = \"year\", value_name = \"Life Expectancy\")\n",
    "\n",
    "#clean and tidy population\n",
    "pop.index.name = \"country\"\n",
    "pop = pop.reset_index()\n",
    "pop = pop.melt(id_vars = \"country\", var_name = \"year\", value_name = \"Population\")\n",
    "\n",
    "#clean continents\n",
    "cont = cont.reset_index() #THIS IS A GAME-CHANGER\n",
    "cont.rename(columns = {\"continent\" : \"Continent\"}, inplace = True)\n",
    "\n",
    "#merge and tidy dataframes\n",
    "df = fert.merge(pop)\n",
    "df = df.merge(life)\n",
    "df = df.merge(cont)\n",
    "df = df.sort_values([\"Continent\", \"country\"])\n",
    "\n",
    "df.dropna(inplace=True)\n",
    "df.drop_duplicates(inplace=True)"
   ]
  },
  {
   "attachments": {},
   "cell_type": "markdown",
   "id": "17575463",
   "metadata": {},
   "source": [
    "# Make Scatterplots"
   ]
  },
  {
   "cell_type": "code",
   "execution_count": null,
   "id": "d1dfbddd",
   "metadata": {
    "scrolled": true
   },
   "outputs": [],
   "source": [
    "continent_names = df[\"Continent\"].unique()\n",
    "\n",
    "for i in range (1960, 2016): # selected from 1960 for more consistency/stability of data\n",
    "    df_subset = df.loc[df[\"year\"] == i]\n",
    "    plt.figure()\n",
    "    \n",
    "    minsize = df_subset[\"Population\"].min()\n",
    "    maxsize = df_subset[\"Population\"].max()\n",
    "    \n",
    "    fig, ax = plt.subplots(figsize = (12,6))\n",
    "    ax.set(xlim = (0, 90), ylim = (0, 10))\n",
    "    sns.scatterplot(x = \"Life Expectancy\", y = \"Fertility Rate\", legend = False, data = df_subset, size = \"Population\", sizes = (0.001*minsize, 0.000005*maxsize), hue = \"Continent\", ax = ax, alpha = 0.6).set(title = \"Life Expectancy vs. Fertility Rate \" + str(i))\n",
    "    \n",
    "    legend_handles = []\n",
    "    legend_labels = []\n",
    "    for name, color in zip(continent_names, sns.color_palette()):\n",
    "        legend_handles.append(ax.scatter([], [], s=100, color=color, label=name))\n",
    "        legend_labels.append(name)\n",
    "    legend_handles.append(ax.scatter([], [], s=50, color='black'))\n",
    "    \n",
    "    ax.legend(handles=legend_handles, labels=legend_labels, fontsize='medium', loc='upper left')\n",
    "    \n",
    "    # labeling only countries in top 10 for mean population \n",
    "    df_maxpop = df_subset.groupby(\"country\").mean(\"Population\").sort_values([\"Population\"], ascending = False).head(10)\n",
    "    df_maxpop.index.name = \"country\"\n",
    "    df_maxpop = df_maxpop.reset_index()\n",
    "    df_maxpop = df_maxpop[\"country\"]\n",
    "    df_maxpop = df_maxpop.values.tolist()[0:11]\n",
    "    \n",
    "    for _, row in df_subset.iterrows():\n",
    "        if row[\"country\"] in df_maxpop:\n",
    "            ax.text(row[\"Life Expectancy\"]-3, row[\"Fertility Rate\"], row[\"country\"],)\n",
    "\n",
    "    fig.savefig(\"./figs/fig\"+str(i)+\".png\")"
   ]
  },
  {
   "attachments": {},
   "cell_type": "markdown",
   "id": "fb8c3b74",
   "metadata": {},
   "source": [
    "# Make GIF"
   ]
  },
  {
   "cell_type": "code",
   "execution_count": null,
   "id": "50b68da1",
   "metadata": {},
   "outputs": [],
   "source": [
    "images = []\n",
    "\n",
    "for i in range(1960, 2016):\n",
    "    filename = \"figs/fig{}.png\".format(i)\n",
    "    images.append(imageio.imread(filename))\n",
    "\n",
    "imageio.mimsave(\"output.gif\", images, fps=10)"
   ]
  }
 ],
 "metadata": {
  "kernelspec": {
   "display_name": "base",
   "language": "python",
   "name": "python3"
  },
  "language_info": {
   "codemirror_mode": {
    "name": "ipython",
    "version": 3
   },
   "file_extension": ".py",
   "mimetype": "text/x-python",
   "name": "python",
   "nbconvert_exporter": "python",
   "pygments_lexer": "ipython3",
   "version": "3.10.9"
  },
  "vscode": {
   "interpreter": {
    "hash": "8eafaa3daa9df85b86c75f109187f4c7cbda5f25a800c514f7f5a679934b86aa"
   }
  }
 },
 "nbformat": 4,
 "nbformat_minor": 5
}
